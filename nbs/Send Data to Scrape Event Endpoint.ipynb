{
 "cells": [
  {
   "cell_type": "code",
   "execution_count": 1,
   "id": "9acd5054",
   "metadata": {},
   "outputs": [],
   "source": [
    "import requests"
   ]
  },
  {
   "cell_type": "code",
   "execution_count": 19,
   "id": "b77bfaa3",
   "metadata": {},
   "outputs": [
    {
     "name": "stdout",
     "output_type": "stream",
     "text": [
      "{'asin': 'http_test', 'title': 'abc1234', 'price_str': '$19.99'}\n"
     ]
    }
   ],
   "source": [
    "endpoint = \"http://127.0.0.1:8000/events/scrape\"\n",
    "asin = \"http_test\"\n",
    "r = requests.post(endpoint, json={\"asin\" :asin, \"title\": \"abc1234\", \"price_str\": \"$19.99\"})\n",
    "print(r.json())"
   ]
  },
  {
   "cell_type": "code",
   "execution_count": 20,
   "id": "0d00a348",
   "metadata": {},
   "outputs": [
    {
     "name": "stdout",
     "output_type": "stream",
     "text": [
      "[{'asin': 'http_test', 'title': 'abc1234', 'price_str': '$19.99', 'created': '2022-02-11T12:39:57.128409'}, {'asin': 'http_test', 'title': 'abc1234', 'price_str': '$19.99', 'created': '2022-02-11T12:34:45.734265'}, {'asin': 'http_test', 'title': 'abc1234', 'price_str': '$19.99', 'created': '2022-02-08T14:39:09.867900'}, {'asin': 'http_test', 'title': 'abc1234', 'price_str': '$19.99', 'created': '2022-02-11T12:40:01.489350'}, {'asin': 'http_test', 'title': 'abc1234', 'price_str': '$19.99', 'created': '2022-02-11T12:33:51.935482'}, {'asin': 'http_test', 'title': 'abc123', 'price_str': '$19.99', 'created': '2022-02-08T14:37:38.498051'}, {'asin': 'http_test', 'title': 'abc1234', 'price_str': '-1', 'created': '2022-02-08T14:38:40.426876'}, {'asin': 'http_test', 'title': 'abc1234', 'price_str': '$19.99', 'created': '2022-02-11T12:31:43.276397'}, {'asin': 'http_test', 'title': 'abc1234', 'price_str': '$19.99', 'created': '2022-02-11T12:39:41.027217'}, {'asin': 'http_test', 'title': 'abc123', 'price_str': '-1', 'created': '2022-02-08T14:38:04.773865'}, {'asin': 'http_test', 'title': 'abc1234', 'price_str': '$19.99', 'created': '2022-02-11T12:38:23.147927'}]\n"
     ]
    }
   ],
   "source": [
    "endpoint2 = f\"http://127.0.0.1:8000/products/{asin}/events\"\n",
    "r2 = requests.get(endpoint2)\n",
    "print(r2.json())"
   ]
  },
  {
   "cell_type": "code",
   "execution_count": null,
   "id": "b541f62d",
   "metadata": {},
   "outputs": [],
   "source": []
  },
  {
   "cell_type": "code",
   "execution_count": null,
   "id": "2d66dbd4",
   "metadata": {},
   "outputs": [],
   "source": []
  }
 ],
 "metadata": {
  "kernelspec": {
   "display_name": "Python 3 (ipykernel)",
   "language": "python",
   "name": "python3"
  },
  "language_info": {
   "codemirror_mode": {
    "name": "ipython",
    "version": 3
   },
   "file_extension": ".py",
   "mimetype": "text/x-python",
   "name": "python",
   "nbconvert_exporter": "python",
   "pygments_lexer": "ipython3",
   "version": "3.9.7"
  }
 },
 "nbformat": 4,
 "nbformat_minor": 5
}
