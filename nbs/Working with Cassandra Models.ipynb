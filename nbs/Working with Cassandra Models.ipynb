{
 "cells": [
  {
   "cell_type": "code",
   "execution_count": 1,
   "metadata": {},
   "outputs": [
    {
     "name": "stdout",
     "output_type": "stream",
     "text": [
      " Volume in drive C is OS\n",
      " Volume Serial Number is 62B3-B829\n",
      "\n",
      " Directory of C:\\Users\\yo_laptop\\Documents\\dev\\api_development\\fastapi-scheduling\\nbs\n",
      "\n",
      "04/02/2022  21:49    <DIR>          .\n",
      "04/02/2022  21:49    <DIR>          ..\n",
      "03/02/2022  22:00    <DIR>          .ipynb_checkpoints\n",
      "03/02/2022  22:00             3,030 Working with Cassandra & Pydantic.ipynb\n",
      "04/02/2022  21:49            14,513 Working with Cassandra Models.ipynb\n",
      "               2 File(s)         17,543 bytes\n",
      "               3 Dir(s)  89,782,886,400 bytes free\n"
     ]
    }
   ],
   "source": [
    "ls"
   ]
  },
  {
   "cell_type": "code",
   "execution_count": 2,
   "metadata": {},
   "outputs": [
    {
     "name": "stdout",
     "output_type": "stream",
     "text": [
      "C:\\Users\\yo_laptop\\Documents\\dev\\api_development\\fastapi-scheduling\n"
     ]
    }
   ],
   "source": [
    "cd ../"
   ]
  },
  {
   "cell_type": "code",
   "execution_count": 15,
   "metadata": {},
   "outputs": [],
   "source": [
    "from app import crud, models, db, main"
   ]
  },
  {
   "cell_type": "code",
   "execution_count": 17,
   "metadata": {},
   "outputs": [],
   "source": [
    "session = db.get_session()\n",
    "main.on_startup()"
   ]
  },
  {
   "cell_type": "code",
   "execution_count": 18,
   "metadata": {},
   "outputs": [
    {
     "data": {
      "text/plain": [
       "{'asin': 'AMZNIDNUMBER', 'title': 'Mark 1'}"
      ]
     },
     "execution_count": 18,
     "metadata": {},
     "output_type": "execute_result"
    }
   ],
   "source": [
    "data = models.data\n",
    "data"
   ]
  },
  {
   "cell_type": "code",
   "execution_count": 19,
   "metadata": {},
   "outputs": [
    {
     "data": {
      "text/plain": [
       "(Product(asin='AMZNIDNUMBER', title='Mark 1', price_str='-1'),\n",
       " ProductScrapeEvent(uuid=UUID('f2c47013-85f9-11ec-9fef-9cb6d08d01d6'), asin='AMZNIDNUMBER', title='Mark 1', price_str='-1'))"
      ]
     },
     "execution_count": 19,
     "metadata": {},
     "output_type": "execute_result"
    }
   ],
   "source": [
    "crud.add_scrape_event(data, fresh=True)"
   ]
  },
  {
   "cell_type": "code",
   "execution_count": 20,
   "metadata": {},
   "outputs": [
    {
     "data": {
      "text/plain": [
       "{'asin': 'AMZNIDNUMBER', 'title': 'Mark 1'}"
      ]
     },
     "execution_count": 20,
     "metadata": {},
     "output_type": "execute_result"
    }
   ],
   "source": [
    "data"
   ]
  },
  {
   "cell_type": "code",
   "execution_count": 21,
   "metadata": {},
   "outputs": [
    {
     "name": "stdout",
     "output_type": "stream",
     "text": [
      "AMZNIDNUMBER1\n",
      "AMZNIDNUMBER\n",
      "AMZNIDNUMBER123\n",
      "AMZNIDNUMBER3\n"
     ]
    }
   ],
   "source": [
    "asin = \"AMZNIDNUMBER1\"\n",
    "for obj in models.Product.objects().all():\n",
    "    print(obj.asin)"
   ]
  },
  {
   "cell_type": "code",
   "execution_count": 22,
   "metadata": {
    "scrolled": true
   },
   "outputs": [
    {
     "name": "stdout",
     "output_type": "stream",
     "text": [
      "Scrape events for AMZNIDNUMBER1\n"
     ]
    }
   ],
   "source": [
    "if asin:\n",
    "    print(f\"Scrape events for {asin}\")\n",
    "    q = models.ProductScrapeEvent.objects.filter(asin=asin)\n",
    "    for i, obj in enumerate(q):\n",
    "        print(i, obj.asin, obj.uuid)"
   ]
  },
  {
   "cell_type": "code",
   "execution_count": 23,
   "metadata": {},
   "outputs": [
    {
     "name": "stdout",
     "output_type": "stream",
     "text": [
      "SELECT * FROM scraper_app.product LIMIT 10000\n",
      "['__call__', '__class__', '__deepcopy__', '__delattr__', '__dict__', '__dir__', '__doc__', '__eq__', '__format__', '__ge__', '__getattribute__', '__getitem__', '__gt__', '__hash__', '__init__', '__init_subclass__', '__iter__', '__le__', '__len__', '__lt__', '__module__', '__ne__', '__new__', '__reduce__', '__reduce_ex__', '__repr__', '__setattr__', '__sizeof__', '__str__', '__subclasshook__', '__unicode__', '__weakref__', '_allow_filtering', '_batch', '_conditional', '_connection', '_consistency', '_construct_with_deferred', '_count', '_defer_fields', '_deferred_values', '_distinct_fields', '_execute', '_execute_query', '_fetch_size', '_fill_result_cache', '_fill_result_cache_to_idx', '_flat_values_list', '_get_ordering_condition', '_get_result_constructor', '_if_exists', '_if_not_exists', '_limit', '_materialize_results', '_maybe_inject_deferred', '_only_fields', '_only_or_defer', '_order', '_parse_filter_arg', '_result_cache', '_result_generator', '_result_idx', '_select_fields', '_select_query', '_timeout', '_timestamp', '_ttl', '_validate_select_where', '_values_list', '_where', 'all', 'allow_filtering', 'batch', 'column_family_name', 'consistency', 'count', 'create', 'defer', 'delete', 'distinct', 'fetch_size', 'filter', 'first', 'get', 'if_exists', 'if_not_exists', 'iff', 'limit', 'model', 'only', 'order_by', 'timeout', 'timestamp', 'ttl', 'update', 'using', 'values_list']\n"
     ]
    }
   ],
   "source": [
    "print(models.Product.objects().all())\n",
    "q = models.Product.objects().all()\n",
    "print(dir(q))"
   ]
  },
  {
   "cell_type": "code",
   "execution_count": 24,
   "metadata": {},
   "outputs": [
    {
     "name": "stdout",
     "output_type": "stream",
     "text": [
      "{'asin': 'AMZNIDNUMBER1', 'price_str': None, 'title': 'Mark 2'}\n",
      "{'asin': 'AMZNIDNUMBER', 'price_str': '-1', 'title': 'Mark 1'}\n",
      "{'asin': 'AMZNIDNUMBER123', 'price_str': '-1', 'title': 'Mark 1'}\n",
      "{'asin': 'AMZNIDNUMBER3', 'price_str': '-1', 'title': 'Mark 1'}\n"
     ]
    }
   ],
   "source": [
    "for row in session.execute(\"SELECT * FROM scraper_app.product LIMIT 10000\"):\n",
    "    print(row)"
   ]
  },
  {
   "cell_type": "code",
   "execution_count": 25,
   "metadata": {},
   "outputs": [
    {
     "name": "stdout",
     "output_type": "stream",
     "text": [
      "{'asin': 'AMZNIDNUMBER1', 'price_str': None, 'title': 'Mark 2'}\n",
      "{'asin': 'AMZNIDNUMBER', 'price_str': '-1', 'title': 'Mark 1'}\n",
      "{'asin': 'AMZNIDNUMBER123', 'price_str': '-1', 'title': 'Mark 1'}\n",
      "{'asin': 'AMZNIDNUMBER3', 'price_str': '-1', 'title': 'Mark 1'}\n"
     ]
    }
   ],
   "source": [
    "q = models.Product.objects().all()\n",
    "cquery = str(q._select_query())\n",
    "for row in session.execute(cquery):\n",
    "    print(row)"
   ]
  },
  {
   "cell_type": "code",
   "execution_count": 26,
   "metadata": {},
   "outputs": [
    {
     "name": "stdout",
     "output_type": "stream",
     "text": [
      "SELECT * FROM scraper_app.product_scrape_event LIMIT 10000\n"
     ]
    }
   ],
   "source": [
    "print(models.ProductScrapeEvent.objects().all())"
   ]
  },
  {
   "cell_type": "code",
   "execution_count": 27,
   "metadata": {
    "scrolled": true
   },
   "outputs": [
    {
     "name": "stdout",
     "output_type": "stream",
     "text": [
      "{'uuid': UUID('6b7dc07a-7f8b-11ec-9112-dc41a9e1065d'), 'asin': 'AMZNIDNUMBER', 'price_str': '-1', 'title': 'Mark 1'}\n",
      "{'uuid': UUID('c9edb465-7f88-11ec-a99d-dc41a9e1065d'), 'asin': 'AMZNIDNUMBER', 'price_str': '-1', 'title': 'Mark 1'}\n",
      "{'uuid': UUID('2811dae5-85f3-11ec-8bf0-9cb6d08d01d6'), 'asin': 'AMZNIDNUMBER3', 'price_str': '-1', 'title': 'Mark 1'}\n",
      "{'uuid': UUID('cf333693-7f86-11ec-b4f4-dc41a9e1065d'), 'asin': 'AMZNIDNUMBER', 'price_str': '-1', 'title': 'Mark 1'}\n",
      "{'uuid': UUID('3ac257d6-7f8d-11ec-8431-dc41a9e1065d'), 'asin': 'AMZNIDNUMBER', 'price_str': '-1', 'title': 'Mark 1'}\n",
      "{'uuid': UUID('04a1195b-7fc7-11ec-91f1-dc41a9e1065d'), 'asin': 'AMZNIDNUMBER3', 'price_str': '-1', 'title': 'Mark 1'}\n",
      "{'uuid': UUID('d106626d-85f3-11ec-b78e-9cb6d08d01d6'), 'asin': 'AMZNIDNUMBER', 'price_str': '-1', 'title': 'Mark 1'}\n",
      "{'uuid': UUID('ead7bff7-7fc6-11ec-8ea0-dc41a9e1065d'), 'asin': 'AMZNIDNUMBER3', 'price_str': '-1', 'title': 'Mark 1'}\n",
      "{'uuid': UUID('30a0c318-7f88-11ec-93b6-dc41a9e1065d'), 'asin': 'AMZNIDNUMBER', 'price_str': '-1', 'title': 'Mark 1'}\n",
      "{'uuid': UUID('317e61ab-7f88-11ec-817a-dc41a9e1065d'), 'asin': 'AMZNIDNUMBER', 'price_str': '-1', 'title': 'Mark 1'}\n",
      "{'uuid': UUID('41fb71d8-7f8d-11ec-9b51-dc41a9e1065d'), 'asin': 'AMZNIDNUMBER', 'price_str': '-1', 'title': 'Mark 1'}\n",
      "{'uuid': UUID('f7bfe6d6-7fc2-11ec-8b0d-dc41a9e1065d'), 'asin': 'AMZNIDNUMBER3', 'price_str': '-1', 'title': 'Mark 1'}\n",
      "{'uuid': UUID('752ef970-7f87-11ec-9bd4-dc41a9e1065d'), 'asin': 'AMZNIDNUMBER', 'price_str': '-1', 'title': 'Mark 1'}\n",
      "{'uuid': UUID('3139a875-7f88-11ec-8d03-dc41a9e1065d'), 'asin': 'AMZNIDNUMBER', 'price_str': '-1', 'title': 'Mark 1'}\n",
      "{'uuid': UUID('67244eec-7f6f-11ec-93e9-dc41a9e1065d'), 'asin': 'AMZNIDNUMBER', 'price_str': '-1', 'title': 'Mark 1'}\n",
      "{'uuid': UUID('3aee40f5-7f8d-11ec-a18f-dc41a9e1065d'), 'asin': 'AMZNIDNUMBER', 'price_str': '-1', 'title': 'Mark 1'}\n",
      "{'uuid': UUID('6ac4a4f0-7f6f-11ec-bb78-dc41a9e1065d'), 'asin': 'AMZNIDNUMBER', 'price_str': '-1', 'title': 'Mark 1'}\n",
      "{'uuid': UUID('589327ef-7f8d-11ec-978e-dc41a9e1065d'), 'asin': 'AMZNIDNUMBER3', 'price_str': '-1', 'title': 'Mark 1'}\n",
      "{'uuid': UUID('587b61d8-7f8d-11ec-8b78-dc41a9e1065d'), 'asin': 'AMZNIDNUMBER3', 'price_str': '-1', 'title': 'Mark 1'}\n",
      "{'uuid': UUID('3ad90f72-7f8d-11ec-a79d-dc41a9e1065d'), 'asin': 'AMZNIDNUMBER', 'price_str': '-1', 'title': 'Mark 1'}\n",
      "{'uuid': UUID('30ede7c2-7f88-11ec-925c-dc41a9e1065d'), 'asin': 'AMZNIDNUMBER', 'price_str': '-1', 'title': 'Mark 1'}\n",
      "{'uuid': UUID('9e19c28e-7f6d-11ec-a724-dc41a9e1065d'), 'asin': 'AMZNIDNUMBER', 'price_str': '-1', 'title': 'Mark 1'}\n",
      "{'uuid': UUID('419b9866-7f88-11ec-99a0-dc41a9e1065d'), 'asin': 'AMZNIDNUMBER', 'price_str': '-1', 'title': 'Mark 1'}\n",
      "{'uuid': UUID('5862e7ee-7f8d-11ec-a915-dc41a9e1065d'), 'asin': 'AMZNIDNUMBER3', 'price_str': '-1', 'title': 'Mark 1'}\n",
      "{'uuid': UUID('335ef61e-7f88-11ec-8536-dc41a9e1065d'), 'asin': 'AMZNIDNUMBER', 'price_str': '-1', 'title': 'Mark 1'}\n",
      "{'uuid': UUID('5840c556-7f8d-11ec-bf59-dc41a9e1065d'), 'asin': 'AMZNIDNUMBER3', 'price_str': '-1', 'title': 'Mark 1'}\n",
      "{'uuid': UUID('4238b3e1-7f8d-11ec-bbde-dc41a9e1065d'), 'asin': 'AMZNIDNUMBER', 'price_str': '-1', 'title': 'Mark 1'}\n",
      "{'uuid': UUID('d15efa65-85f3-11ec-8ef3-9cb6d08d01d6'), 'asin': 'AMZNIDNUMBER', 'price_str': '-1', 'title': 'Mark 1'}\n",
      "{'uuid': UUID('4142e46f-7f88-11ec-9d16-dc41a9e1065d'), 'asin': 'AMZNIDNUMBER', 'price_str': '-1', 'title': 'Mark 1'}\n",
      "{'uuid': UUID('d1ac56a9-85f3-11ec-a49d-9cb6d08d01d6'), 'asin': 'AMZNIDNUMBER', 'price_str': '-1', 'title': 'Mark 1'}\n",
      "{'uuid': UUID('3049d5a1-7f88-11ec-898d-dc41a9e1065d'), 'asin': 'AMZNIDNUMBER', 'price_str': '-1', 'title': 'Mark 1'}\n",
      "{'uuid': UUID('5ee265cf-7f6e-11ec-8acc-dc41a9e1065d'), 'asin': 'AMZNIDNUMBER', 'price_str': '-1', 'title': 'Mark 1'}\n",
      "{'uuid': UUID('d1c36d61-85f3-11ec-81b0-9cb6d08d01d6'), 'asin': 'AMZNIDNUMBER', 'price_str': '-1', 'title': 'Mark 1'}\n",
      "{'uuid': UUID('4213ce8d-7f8d-11ec-b3f6-dc41a9e1065d'), 'asin': 'AMZNIDNUMBER', 'price_str': '-1', 'title': 'Mark 1'}\n",
      "{'uuid': UUID('5f5ba486-7f6e-11ec-8808-dc41a9e1065d'), 'asin': 'AMZNIDNUMBER', 'price_str': '-1', 'title': 'Mark 1'}\n",
      "{'uuid': UUID('6c080e25-7f6f-11ec-87ec-dc41a9e1065d'), 'asin': 'AMZNIDNUMBER', 'price_str': '-1', 'title': 'Mark 1'}\n",
      "{'uuid': UUID('59459e3f-7f8d-11ec-9333-dc41a9e1065d'), 'asin': 'AMZNIDNUMBER3', 'price_str': '-1', 'title': 'Mark 1'}\n",
      "{'uuid': UUID('cff5f30b-85f3-11ec-aa64-9cb6d08d01d6'), 'asin': 'AMZNIDNUMBER', 'price_str': '-1', 'title': 'Mark 1'}\n",
      "{'uuid': UUID('2be026de-7f6e-11ec-859d-dc41a9e1065d'), 'asin': 'AMZNIDNUMBER', 'price_str': '-1', 'title': 'Mark 1'}\n",
      "{'uuid': UUID('d0b15c6b-85f3-11ec-9b07-9cb6d08d01d6'), 'asin': 'AMZNIDNUMBER', 'price_str': '-1', 'title': 'Mark 1'}\n",
      "{'uuid': UUID('6a17bcd4-7f6f-11ec-b46c-dc41a9e1065d'), 'asin': 'AMZNIDNUMBER', 'price_str': '-1', 'title': 'Mark 1'}\n",
      "{'uuid': UUID('d18f84cb-85f3-11ec-8331-9cb6d08d01d6'), 'asin': 'AMZNIDNUMBER', 'price_str': '-1', 'title': 'Mark 1'}\n",
      "{'uuid': UUID('999e0e1a-7f8b-11ec-8b49-dc41a9e1065d'), 'asin': 'AMZNIDNUMBER', 'price_str': '-1', 'title': 'Mark 1'}\n",
      "{'uuid': UUID('50795c52-7f6e-11ec-ab5c-dc41a9e1065d'), 'asin': 'AMZNIDNUMBER', 'price_str': '-1', 'title': 'Mark 1'}\n",
      "{'uuid': UUID('cdb41b1f-7f8a-11ec-952b-dc41a9e1065d'), 'asin': 'AMZNIDNUMBER', 'price_str': '-1', 'title': 'Mark 1'}\n",
      "{'uuid': UUID('0bcdcc24-7f6f-11ec-bbb1-dc41a9e1065d'), 'asin': 'AMZNIDNUMBER', 'price_str': '-1', 'title': 'Mark 1'}\n",
      "{'uuid': UUID('0e45d235-7f89-11ec-9097-dc41a9e1065d'), 'asin': 'AMZNIDNUMBER', 'price_str': '-1', 'title': 'Mark 1'}\n",
      "{'uuid': UUID('0781e8b6-7f88-11ec-8c9f-dc41a9e1065d'), 'asin': 'AMZNIDNUMBER', 'price_str': '-1', 'title': 'Mark 1'}\n",
      "{'uuid': UUID('04f8b655-7fc7-11ec-9f58-dc41a9e1065d'), 'asin': 'AMZNIDNUMBER3', 'price_str': '-1', 'title': 'Mark 1'}\n",
      "{'uuid': UUID('51e86a75-7f88-11ec-a871-dc41a9e1065d'), 'asin': 'AMZNIDNUMBER', 'price_str': '-1', 'title': 'Mark 1'}\n",
      "{'uuid': UUID('5d9418a0-7f6e-11ec-a41e-dc41a9e1065d'), 'asin': 'AMZNIDNUMBER', 'price_str': '-1', 'title': 'Mark 1'}\n",
      "{'uuid': UUID('d0558ad7-85f3-11ec-b0ec-9cb6d08d01d6'), 'asin': 'AMZNIDNUMBER', 'price_str': '-1', 'title': 'Mark 1'}\n",
      "{'uuid': UUID('0ba2c218-7f88-11ec-90c8-dc41a9e1065d'), 'asin': 'AMZNIDNUMBER', 'price_str': '-1', 'title': 'Mark 1'}\n",
      "{'uuid': UUID('f2c47013-85f9-11ec-9fef-9cb6d08d01d6'), 'asin': 'AMZNIDNUMBER', 'price_str': '-1', 'title': 'Mark 1'}\n",
      "{'uuid': UUID('cc9f54d2-85f3-11ec-a549-9cb6d08d01d6'), 'asin': 'AMZNIDNUMBER', 'price_str': '-1', 'title': 'Mark 1'}\n",
      "{'uuid': UUID('09975851-7f88-11ec-81bb-dc41a9e1065d'), 'asin': 'AMZNIDNUMBER', 'price_str': '-1', 'title': 'Mark 1'}\n"
     ]
    }
   ],
   "source": [
    "for row in session.execute(\"SELECT * FROM scraper_app.product_scrape_event LIMIT 10000\"):\n",
    "    print(row)"
   ]
  },
  {
   "cell_type": "markdown",
   "metadata": {},
   "source": [
    "Docs\n",
    "https://docs.datastax.com/en/developer/python-driver/3.25/api/cassandra/cqlengine/models/"
   ]
  },
  {
   "cell_type": "code",
   "execution_count": null,
   "metadata": {},
   "outputs": [],
   "source": []
  }
 ],
 "metadata": {
  "interpreter": {
   "hash": "a2759020695a4f3d0516b28b384a17ea49e130c11a1c369d2d4994b6f6462744"
  },
  "kernelspec": {
   "display_name": "Python 3 (ipykernel)",
   "language": "python",
   "name": "python3"
  },
  "language_info": {
   "codemirror_mode": {
    "name": "ipython",
    "version": 3
   },
   "file_extension": ".py",
   "mimetype": "text/x-python",
   "name": "python",
   "nbconvert_exporter": "python",
   "pygments_lexer": "ipython3",
   "version": "3.9.7"
  }
 },
 "nbformat": 4,
 "nbformat_minor": 2
}
