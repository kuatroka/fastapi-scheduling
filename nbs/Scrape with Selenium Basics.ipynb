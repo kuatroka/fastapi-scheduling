{
 "cells": [
  {
   "cell_type": "code",
   "execution_count": 1,
   "id": "881a1837",
   "metadata": {},
   "outputs": [
    {
     "name": "stdout",
     "output_type": "stream",
     "text": [
      "c:\\Users\\yo_fanpc\\Documents\\dev\\api_development\\fastapi-scheduling\n"
     ]
    }
   ],
   "source": [
    "cd \"c:/Users/yo_fanpc/Documents/dev/api_development/fastapi-scheduling/\""
   ]
  },
  {
   "cell_type": "code",
   "execution_count": 2,
   "id": "8db8bf1f",
   "metadata": {},
   "outputs": [],
   "source": [
    "from app import scraper\n",
    "from selenium import webdriver\n"
   ]
  },
  {
   "cell_type": "code",
   "execution_count": 7,
   "id": "bef91c34",
   "metadata": {},
   "outputs": [
    {
     "name": "stderr",
     "output_type": "stream",
     "text": [
      "C:\\Users\\yo_fanpc\\AppData\\Local\\Temp\\ipykernel_18888\\3910409272.py:2: DeprecationWarning: executable_path has been deprecated, please pass in a Service object\n",
      "  driver = webdriver.Chrome(executable_path=driver_path)\n"
     ]
    }
   ],
   "source": [
    "# driver_path = r\"C:/seleniumdrivers/chromedriver.exe\"\n",
    "driver = webdriver.Chrome(executable_path=driver_path)"
   ]
  },
  {
   "cell_type": "code",
   "execution_count": 3,
   "id": "1f137c57",
   "metadata": {},
   "outputs": [],
   "source": [
    "driver = scraper.Scraper().get_driver()"
   ]
  },
  {
   "cell_type": "code",
   "execution_count": 4,
   "id": "ed099d2e",
   "metadata": {},
   "outputs": [
    {
     "data": {
      "text/plain": [
       "<selenium.webdriver.chrome.webdriver.WebDriver (session=\"3ba31e169e0121c9738df0abc95fdfde\")>"
      ]
     },
     "execution_count": 4,
     "metadata": {},
     "output_type": "execute_result"
    }
   ],
   "source": [
    "driver"
   ]
  },
  {
   "cell_type": "code",
   "execution_count": null,
   "id": "4355bfbf",
   "metadata": {},
   "outputs": [],
   "source": []
  }
 ],
 "metadata": {
  "kernelspec": {
   "display_name": "Python 3 (ipykernel)",
   "language": "python",
   "name": "python3"
  },
  "language_info": {
   "codemirror_mode": {
    "name": "ipython",
    "version": 3
   },
   "file_extension": ".py",
   "mimetype": "text/x-python",
   "name": "python",
   "nbconvert_exporter": "python",
   "pygments_lexer": "ipython3",
   "version": "3.9.7"
  }
 },
 "nbformat": 4,
 "nbformat_minor": 5
}
